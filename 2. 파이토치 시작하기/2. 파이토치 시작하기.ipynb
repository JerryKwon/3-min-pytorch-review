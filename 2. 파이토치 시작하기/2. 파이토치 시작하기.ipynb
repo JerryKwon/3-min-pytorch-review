{
 "cells": [
  {
   "cell_type": "markdown",
   "metadata": {},
   "source": [
    "# 2. 파이토치 시작하기\n",
    "\n",
    "나는 Dacon의 EMNIST 분류 문제 수행을 위해, pytorch를 사용하기로 마음먹었었다. 그리고, 파이토치 설치를 위해 일반 python의 패키지 설치를 위한 command를 입력했다.\n",
    "\n",
    "        !pip install -m pytorch \n",
    "\n",
    "내가 설치를 위해 입력한 코드는 의도와 달리 진행되지 않았다. 그래서, pytorch 공식 홈페이지를 참고하여 Installation의 절차에 따라 진행하니, 위의 커맨드가 아님을 깨닫게 되었다.\n",
    "\n",
    "**pytorch webpage: https://pytorch.org/**\n",
    "\n",
    "![pytorch_installation](imgs/pytorch_installation.jpg)\n",
    "\n",
    "pytorch webpage의 get started 탭에서 pytorch를 사용할 환경 및 설치 명령어 등의 옵션을 입력하면 위와 같은 command가 생성되고 이를 실행시켜 주도록 하자."
   ]
  },
  {
   "cell_type": "code",
   "execution_count": 1,
   "metadata": {},
   "outputs": [
    {
     "name": "stdout",
     "output_type": "stream",
     "text": [
      "Looking in links: https://download.pytorch.org/whl/torch_stable.html\n",
      "Requirement already satisfied: torch===1.6.0 in c:\\users\\kwon2\\anaconda3\\lib\\site-packages (1.6.0)\n",
      "Requirement already satisfied: torchvision===0.7.0 in c:\\users\\kwon2\\anaconda3\\lib\\site-packages (0.7.0)\n",
      "Requirement already satisfied: numpy in c:\\users\\kwon2\\anaconda3\\lib\\site-packages (from torch===1.6.0) (1.16.0)\n",
      "Requirement already satisfied: future in c:\\users\\kwon2\\anaconda3\\lib\\site-packages (from torch===1.6.0) (0.17.1)\n",
      "Requirement already satisfied: pillow>=4.1.1 in c:\\users\\kwon2\\anaconda3\\lib\\site-packages (from torchvision===0.7.0) (5.2.0)\n"
     ]
    },
    {
     "name": "stderr",
     "output_type": "stream",
     "text": [
      "WARNING: You are using pip version 20.2.2; however, version 20.2.3 is available.\n",
      "You should consider upgrading via the 'c:\\users\\kwon2\\anaconda3\\python.exe -m pip install --upgrade pip' command.\n"
     ]
    }
   ],
   "source": [
    "!pip install torch===1.6.0 torchvision===0.7.0 -f https://download.pytorch.org/whl/torch_stable.html"
   ]
  },
  {
   "cell_type": "markdown",
   "metadata": {},
   "source": [
    "나는 EMNIST 분류 문제 수행을 위해 Local PC에 pytorch가 이미 설치된 상태이다.\n",
    "\n",
    "그런데, 설치시 torch 뿐만 아니라, torchvision이라는 패키지도 특정 버전으로 설치하게 된다.\n",
    "\n",
    "## 2.1. pytorch 설치시 package들\n",
    "\n",
    "1. torch\n",
    "2. torchvision: pytorch의 이미지 처리용 도구\n",
    "3. torchtext: pytorch의 텍스트 처리용 도구\n",
    "\n",
    "그러나, torchtext의 경우에는 자동으로 선택지에서 커맨드를 생성해주지 않기 때문에 따로 설치해주자. torchtext 설치를 위한 커맨드는 아래와 같다."
   ]
  },
  {
   "cell_type": "code",
   "execution_count": 2,
   "metadata": {},
   "outputs": [
    {
     "name": "stdout",
     "output_type": "stream",
     "text": [
      "Collecting torchtext\n",
      "  Downloading torchtext-0.6.0-py3-none-any.whl (64 kB)\n",
      "Collecting sentencepiece\n",
      "  Downloading sentencepiece-0.1.91-cp37-cp37m-win_amd64.whl (1.2 MB)\n",
      "Requirement already satisfied: tqdm in c:\\users\\kwon2\\anaconda3\\lib\\site-packages (from torchtext) (4.26.0)\n",
      "Requirement already satisfied: numpy in c:\\users\\kwon2\\anaconda3\\lib\\site-packages (from torchtext) (1.16.0)\n",
      "Requirement already satisfied: requests in c:\\users\\kwon2\\anaconda3\\lib\\site-packages (from torchtext) (2.19.1)\n",
      "Requirement already satisfied: torch in c:\\users\\kwon2\\anaconda3\\lib\\site-packages (from torchtext) (1.6.0)\n",
      "Requirement already satisfied: six in c:\\users\\kwon2\\anaconda3\\lib\\site-packages (from torchtext) (1.11.0)\n",
      "Requirement already satisfied: urllib3<1.24,>=1.21.1 in c:\\users\\kwon2\\anaconda3\\lib\\site-packages (from requests->torchtext) (1.23)\n",
      "Requirement already satisfied: idna<2.8,>=2.5 in c:\\users\\kwon2\\anaconda3\\lib\\site-packages (from requests->torchtext) (2.7)\n",
      "Requirement already satisfied: chardet<3.1.0,>=3.0.2 in c:\\users\\kwon2\\anaconda3\\lib\\site-packages (from requests->torchtext) (3.0.4)\n",
      "Requirement already satisfied: certifi>=2017.4.17 in c:\\users\\kwon2\\anaconda3\\lib\\site-packages (from requests->torchtext) (2018.8.24)\n",
      "Requirement already satisfied: future in c:\\users\\kwon2\\anaconda3\\lib\\site-packages (from torch->torchtext) (0.17.1)\n",
      "Installing collected packages: sentencepiece, torchtext\n",
      "Successfully installed sentencepiece-0.1.91 torchtext-0.6.0\n"
     ]
    },
    {
     "name": "stderr",
     "output_type": "stream",
     "text": [
      "WARNING: You are using pip version 20.2.2; however, version 20.2.3 is available.\n",
      "You should consider upgrading via the 'c:\\users\\kwon2\\anaconda3\\python.exe -m pip install --upgrade pip' command.\n"
     ]
    }
   ],
   "source": [
    "!pip install torchtext"
   ]
  },
  {
   "cell_type": "markdown",
   "metadata": {},
   "source": [
    "설치가 모두 끝났다면, 잘 적용되었는지 확인해보자. 이를 위해, 교재에서 제공한 github repository의 check_installation.py를 사용하자.\n",
    "\n",
    "check_installation.py: https://github.com/keon/3-min-pytorch/blob/master/02-%ED%8C%8C%EC%9D%B4%ED%86%A0%EC%B9%98_%EC%8B%9C%EC%9E%91%ED%95%98%EA%B8%B0/check_installation.py"
   ]
  },
  {
   "cell_type": "code",
   "execution_count": 9,
   "metadata": {},
   "outputs": [
    {
     "name": "stdout",
     "output_type": "stream",
     "text": [
      "축하합니다! 3분 딥러닝 파이토치맛 예제 실행을 위한 환경설정이 끝났습니다.\n",
      "설치된 라이브러리 정보:\n",
      " * 파이토치(torch) 버전:1.6.0\n",
      " * 토치비전(torchvision) 버전:0.7.0\n",
      " * 토치텍스트(torchtext) 버전:0.6.0\n",
      " * 넘파이(numpy) 버전:1.16.0\n",
      " * 맷플롯립(matplotlib) 버전:2.2.3\n",
      " * 사이킷런(sklearn) 버전:0.19.2\n"
     ]
    }
   ],
   "source": [
    "!python check_installation.py"
   ]
  }
 ],
 "metadata": {
  "kernelspec": {
   "display_name": "Python 3",
   "language": "python",
   "name": "python3"
  },
  "language_info": {
   "codemirror_mode": {
    "name": "ipython",
    "version": 3
   },
   "file_extension": ".py",
   "mimetype": "text/x-python",
   "name": "python",
   "nbconvert_exporter": "python",
   "pygments_lexer": "ipython3",
   "version": "3.7.0"
  }
 },
 "nbformat": 4,
 "nbformat_minor": 2
}
