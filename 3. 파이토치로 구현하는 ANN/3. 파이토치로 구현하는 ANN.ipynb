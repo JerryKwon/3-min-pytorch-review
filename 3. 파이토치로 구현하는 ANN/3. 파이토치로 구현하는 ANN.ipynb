{
 "cells": [
  {
   "cell_type": "markdown",
   "metadata": {},
   "source": [
    "# 3. 파이토치로 구현하는 ANN\n",
    "\n",
    "내가 EMNIST 분류 문제에서 CNN 모델 생성을 위해, tensorflow나 pytorch 라이브러리를 사용하지 않음을 여차 말하고 있는 중이다. 해당 절을 읽으면서, baseline code를 보고 모델을 생성하며 작성한 code에서 각 부분들이 왜 선언되고 사용되는지 이해할 수 있게 되었다. 내가 EMNIST 분류 문제에서 사용했던 코드를 함께 사용하여 이번 절을 정리하려고 한다.\n",
    "\n",
    "DACON EMNIST 분류 문제: <a href=\"https://github.com/JerryKwon/EMNST_DACON\">git repo</a>\n",
    "\n",
    "## 3.1. 텐서와 Autograd\n",
    "\n",
    "텐서는 파이토치에서 다양한 수식을 계산하는데 사용하는 가장 기본적인 자료구조.\n",
    "\n",
    "* 차원 or 랭크\n",
    "    * 1 -> 스칼라, shape: []\n",
    "    * [1,2,3] -> 벡터, shape: [3]\n",
    "    * [[1,2,3]] -> 행렬, shape [1,3]\n",
    "    * [[[1,2,3]]] -> n 랭크 텐서, shape [1,1,3]\n",
    "    \n",
    "### 3.1.1. unsqueeze, squeeze, view\n",
    "\n",
    "모두 텐서의 형태를 바꾸는 메소드.\n",
    "\n",
    "#### unsqueeze()\n",
    "\n",
    "기존의 텐서에서 임의의 위치에 하나으 차원을 추가하는 메소드"
   ]
  },
  {
   "cell_type": "code",
   "execution_count": 2,
   "metadata": {},
   "outputs": [
    {
     "name": "stdout",
     "output_type": "stream",
     "text": [
      "torch.Size([3, 3])\n",
      "2\n"
     ]
    }
   ],
   "source": [
    "import torch\n",
    "\n",
    "tensor = torch.tensor([[1,2,3],[1,2,3],[1,2,3]],dtype=torch.float)\n",
    "print(tensor.shape)\n",
    "print(tensor.ndimension())"
   ]
  },
  {
   "cell_type": "code",
   "execution_count": 3,
   "metadata": {},
   "outputs": [
    {
     "name": "stdout",
     "output_type": "stream",
     "text": [
      "tensor([[[1., 2., 3.],\n",
      "         [1., 2., 3.],\n",
      "         [1., 2., 3.]]])\n",
      "torch.Size([1, 3, 3])\n",
      "3\n"
     ]
    }
   ],
   "source": [
    "unsq = torch.unsqueeze(tensor,0)\n",
    "print(unsq)\n",
    "print(unsq.shape)\n",
    "print(unsq.ndimension())"
   ]
  },
  {
   "cell_type": "markdown",
   "metadata": {},
   "source": [
    "#### squeeze()\n",
    "\n",
    "기존의 텐서에서 랭크의 크기가 1인 랭크를 삭제하여 랭크를 낮추는 메서드"
   ]
  },
  {
   "cell_type": "code",
   "execution_count": 4,
   "metadata": {},
   "outputs": [
    {
     "name": "stdout",
     "output_type": "stream",
     "text": [
      "tensor([[1., 2., 3.],\n",
      "        [1., 2., 3.],\n",
      "        [1., 2., 3.]])\n",
      "torch.Size([3, 3])\n",
      "2\n"
     ]
    }
   ],
   "source": [
    "sq = torch.squeeze(unsq)\n",
    "print(sq)\n",
    "print(sq.shape)\n",
    "print(sq.ndimension())"
   ]
  },
  {
   "cell_type": "markdown",
   "metadata": {},
   "source": [
    "#### view()\n",
    "\n",
    "기존의 텐서를 임의의 형태로 변형하는 메서드"
   ]
  },
  {
   "cell_type": "code",
   "execution_count": 5,
   "metadata": {},
   "outputs": [
    {
     "name": "stdout",
     "output_type": "stream",
     "text": [
      "tensor([1., 2., 3., 1., 2., 3., 1., 2., 3.])\n",
      "torch.Size([9])\n",
      "1\n"
     ]
    }
   ],
   "source": [
    "view_t = tensor.view(9)\n",
    "print(view_t)\n",
    "print(view_t.shape)\n",
    "print(view_t.ndimension())"
   ]
  },
  {
   "cell_type": "markdown",
   "metadata": {},
   "source": [
    "그러나 임의의 텐서 개수로 특정 shape의 형태로 변경할 수 없는 경우 Exception이 발생한다.\n",
    "\n",
    "        view_t.view(2,4)\n",
    "        \n",
    "왜냐하면 9개의 원소를 가진 텐서를 2,4 형태로 변경하게 되면 1개의 텐서는 나타낼 수 없기 때문이다."
   ]
  },
  {
   "cell_type": "code",
   "execution_count": 6,
   "metadata": {},
   "outputs": [
    {
     "ename": "RuntimeError",
     "evalue": "shape '[2, 4]' is invalid for input of size 9",
     "output_type": "error",
     "traceback": [
      "\u001b[1;31m---------------------------------------------------------------------------\u001b[0m",
      "\u001b[1;31mRuntimeError\u001b[0m                              Traceback (most recent call last)",
      "\u001b[1;32m<ipython-input-6-21a1ff11efb0>\u001b[0m in \u001b[0;36m<module>\u001b[1;34m()\u001b[0m\n\u001b[1;32m----> 1\u001b[1;33m \u001b[0mview_t\u001b[0m\u001b[1;33m.\u001b[0m\u001b[0mview\u001b[0m\u001b[1;33m(\u001b[0m\u001b[1;36m2\u001b[0m\u001b[1;33m,\u001b[0m\u001b[1;36m4\u001b[0m\u001b[1;33m)\u001b[0m\u001b[1;33m\u001b[0m\u001b[0m\n\u001b[0m",
      "\u001b[1;31mRuntimeError\u001b[0m: shape '[2, 4]' is invalid for input of size 9"
     ]
    }
   ],
   "source": [
    "view_t.view(2,4)"
   ]
  },
  {
   "cell_type": "code",
   "execution_count": 7,
   "metadata": {},
   "outputs": [
    {
     "ename": "RuntimeError",
     "evalue": "shape '[2, 5]' is invalid for input of size 9",
     "output_type": "error",
     "traceback": [
      "\u001b[1;31m---------------------------------------------------------------------------\u001b[0m",
      "\u001b[1;31mRuntimeError\u001b[0m                              Traceback (most recent call last)",
      "\u001b[1;32m<ipython-input-7-b125eeec1fbe>\u001b[0m in \u001b[0;36m<module>\u001b[1;34m()\u001b[0m\n\u001b[1;32m----> 1\u001b[1;33m \u001b[0mview_t\u001b[0m\u001b[1;33m.\u001b[0m\u001b[0mview\u001b[0m\u001b[1;33m(\u001b[0m\u001b[1;36m2\u001b[0m\u001b[1;33m,\u001b[0m\u001b[1;36m5\u001b[0m\u001b[1;33m)\u001b[0m\u001b[1;33m\u001b[0m\u001b[0m\n\u001b[0m",
      "\u001b[1;31mRuntimeError\u001b[0m: shape '[2, 5]' is invalid for input of size 9"
     ]
    }
   ],
   "source": [
    "view_t.view(2,5)"
   ]
  },
  {
   "cell_type": "markdown",
   "metadata": {},
   "source": [
    "### 3.1.2. pytorch의 행렬곱과 행렬합\n",
    "\n",
    "pytorch에서 행렬 곱과 합에서 합의 경우에는 일반 수식과 동일한 '+' 기호를 사용하나, 행렬곱의 경우에는 **torch.mm(Matrix Multiplication[??])**을 사용한다."
   ]
  },
  {
   "cell_type": "markdown",
   "metadata": {},
   "source": [
    "### 3.1.3. Autograd\n",
    "\n",
    "딥러닝 알고리즘에서 어떻게 최적값을 찾아서 학습을 진행할 수 있을까?\n",
    "\n",
    "ML 알고리즘에서 실제값과 예측값의 차이를 최소화함으로써 학습의 정도를 판단할 수 있다. 그리고 그 차이를 가지고 가중치를 조절하여 다시 학습을 진행한다. 이는 최적의 point에 도달할 때까지 진행하게 되면 우리가 원하는 ML/DL을 위한 학습이 완료되는 것이다.\n",
    "\n",
    "우리는 실제값과 예측값의 차이를 거리(distance)라고 한다. 그리고 각 data point들에서 얻어진 거리들을 평균하여 나타낸 것을 오차(loss)라고 한다. 따라서, 오차를 최소화하는 모델을 학습을 통해 만드는 것이 목표이다.\n",
    "\n",
    "오차를 최소화하는데 사용되는 알고리즘은 아래의 방법들이 있다.\n",
    "\n",
    "* Gradient Descent (경사하강법)\n",
    "* Newton's Method\n",
    "* 기타 등등..\n",
    "\n",
    "이 중에서 우리는 경사 하강법을 통해서 오차를 최소화하는 방법을 언급한다.\n",
    "\n",
    "경사하강법과 Newton's Method에 대해서는 대학원 준비과정에서 준비한 QnA 항목에 준비되어 있다. 곧 깃허브를 통해 준비했던 질문들에 대한 답변을 자세하게 정리할 예정임으로 해당 포스트가 올라오면 이를 참고해주길 바란다.\n",
    "\n",
    "경사하강법에 대해서 간단히 말하지면, '임의의 손실함수에 대해서 기울기 경사를 따라서 손실함수의 최적점에 도착하자!' 라는 아이디어이다. 그러나 손실함수의 최적점을 찾았을 때, 정말 그점이 최적점인가? 등의 \"부분 최적화\"로 인해 학습이 올바르게 이뤄지지 않는 경우도 있다. 이 때문에 딥러닝의 역사에서 암흑기가 찾아왔다. 이는 Newon's Method와 동일하게 별도의 QnA 포스트에서 역사에 대해서 언급할 예정이다.\n",
    "\n",
    "**경사하강법에 대해서 알고 싶다면?**\n",
    "\n",
    "<a href=\"https://www.youtube.com/watch?v=GmtqOlPYB84\">[딥러닝] 2. 선형회귀와 Gradient Descent</a> (Author's Recommendation)\n",
    "\n",
    "Autograd는 미분계산을 자동화 하여 경사하강법을 구현하는 수고를 덜어준다. 파이토치의 기능으로 인해 w에 대한 미분값은 w.grad에 저장된다."
   ]
  },
  {
   "cell_type": "code",
   "execution_count": 8,
   "metadata": {},
   "outputs": [],
   "source": [
    "w = torch.tensor(1.0,requires_grad=True)\n",
    "a = w*3\n",
    "l = a**2"
   ]
  },
  {
   "cell_type": "code",
   "execution_count": 9,
   "metadata": {},
   "outputs": [
    {
     "name": "stdout",
     "output_type": "stream",
     "text": [
      "l을 w로 미분한 값은 18.0\n"
     ]
    }
   ],
   "source": [
    "l.backward()\n",
    "print('l을 w로 미분한 값은 {}'.format(w.grad))"
   ]
  },
  {
   "cell_type": "code",
   "execution_count": 10,
   "metadata": {},
   "outputs": [
    {
     "data": {
      "text/plain": [
       "tensor(18.)"
      ]
     },
     "execution_count": 10,
     "metadata": {},
     "output_type": "execute_result"
    }
   ],
   "source": [
    "w.grad"
   ]
  },
  {
   "cell_type": "markdown",
   "metadata": {},
   "source": [
    "## 3.2. 경사하강법으로 이미지 복원하기\n",
    "\n",
    "실습을 위해 임의의 이미지를 weird_function()이라는 메서드를 만들어 노이징을 주고, 올바른 이미지로 처리할 수 있도록 하는 이미지 복원을 수행해보자.\n",
    "\n",
    "* image_link: <a href=\"\">git repo</a> "
   ]
  }
 ],
 "metadata": {
  "kernelspec": {
   "display_name": "Python 3",
   "language": "python",
   "name": "python3"
  },
  "language_info": {
   "codemirror_mode": {
    "name": "ipython",
    "version": 3
   },
   "file_extension": ".py",
   "mimetype": "text/x-python",
   "name": "python",
   "nbconvert_exporter": "python",
   "pygments_lexer": "ipython3",
   "version": "3.7.0"
  }
 },
 "nbformat": 4,
 "nbformat_minor": 2
}
