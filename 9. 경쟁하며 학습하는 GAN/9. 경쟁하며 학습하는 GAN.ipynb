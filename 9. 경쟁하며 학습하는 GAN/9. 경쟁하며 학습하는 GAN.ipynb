{
 "cells": [
  {
   "cell_type": "markdown",
   "metadata": {},
   "source": [
    "# 9. 경쟁하며 학습하는 GAN\n",
    "\n",
    "## 9.0. 요약\n",
    "\n",
    "### 9.0.1. 지난장\n",
    "\n",
    "지난 장에서는 학습된 신경망에 대해 노이즈를 주어 신뢰성 있는 결과를 얻는 것을 방해하는 적대적 공격(Adversarial Attack)에 대해 알아보았다. 적대적 공격의 목표는 사람이 눈치채지 못하지만 ML 알고리즘에는 영향을 줄 수 있는 노이즈를 만드는 것이다. 그래서 예제로 FGSM을 활용한 적대적 공격을 살펴보았다.\n",
    "\n",
    "### 9.0.2. 이번장\n",
    "\n",
    "이번 장에서는 적대적 공격의 개념을 반영하여 신경망의 성능을 높이는 GAN(Generative Adversarial Network)에 대해서 알아보자. GAN은 비지도학습의 일종으로 앞으로 딥러닝의 발전을 이끌 신경망 중 하나로 꼽힌다. GAN은 생성부와 판별부로 나뉘며 생성부에서는 진짜 같은 가짜를 만드는 것을 목표로 하며, 판별부는 생성부의 결과값과 실제값을 올바르게 판별하는 것을 목표로 한다. 서로 다른 두 목표를 충족시켜 가며 학습을 수행하고 예측하는 신경망을 바로 GAN이라고 한다."
   ]
  },
  {
   "cell_type": "markdown",
   "metadata": {},
   "source": [
    "## 9.1. GAN의 기초\n",
    "\n",
    "GAN(Generative Adversarial Network; 적대적 신경망)은 2014년 이안 굿펠로우(Ian Goodfellow)에 의해 제안된 신경망이다.\n",
    "\n",
    "GAN에 의미에 대해 나누어서 살펴보면 아래와 같다.\n",
    "1. Generative\n",
    ": GAN은 생성을 하는 모델이다. 앞서 살펴본 CNN과 RNN처럼 결과를 임의의 결과값으로 매핑하는 것이 아니라 학습을 통해 input과 동일한 형태의 결과값을 생성하는 신경망이다\n",
    "2. Adversarial\n",
    ": GAN은 적대적으로 학습한다. GAN 방법론에서는 가짜 이미지를 생성하는 생성자(Generator)와 이미지의 진위를 판별하는 판별자(Discriminator)가 번갈아 학습하며 경쟁적으로 학습을 진행한다.\n",
    "3. Network\n",
    ": GAN은 인공 신경망 모델이다.\n",
    "\n",
    "GAN이 많은 각광을 받고 있는 이유는 비지도학습 방법이기 때문이다. 이 떄문에 앞서 살펴본 오토인코더와 같이 사람의 손길을 최소화하며 학습을 진행한다.\n",
    "\n",
    "### 9.1.1. 생성자와 판별자\n",
    "![basic_structure](img/basic_structure.png)\n",
    "\n",
    "기본적인 GAN의 모형은 9.1.절에서 설명한것과 같이 생성자와 판별자가 있으며, 각각의 손실을 이용하여 앞서 살펴본 신경망들과 동일하게 학습을 수행한다. \n",
    "\n",
    "* 생성자\n",
    "\n",
    "생성자는 임의의 random vector를 생성하고, 이를 신경망을 거쳐 input 데이터와 비교 가능한 동일한 벡터로 출력한 후 둘 사이의 오차값을 계산하여 생성자를 학습시켜나간다.\n",
    "\n",
    "* 판별자\n",
    "\n",
    "변별자는 생성자를 통해 얻어낸 output과 실제 input 데이터를 판별하는 신경망이며, 이 둘을 판별하며 학습을 수행한다.\n",
    "\n",
    "이렇게 생성자와 판별자간의 목표는 서로 상이하다. 생성자는 판별자를 속여야하고, 판별자는 생성자가 만들어낸 거짓 값을 판별할 줄 알아야 한다. 이 때문에 Adversarial하다고 말하며, 경쟁적인 관계를 통해 학습을 수행하는 것이다."
   ]
  },
  {
   "cell_type": "code",
   "execution_count": 9,
   "metadata": {},
   "outputs": [],
   "source": [
    "import os\n",
    "import torch\n",
    "import torchvision\n",
    "import torch.nn as nn\n",
    "import torch.optim as optim\n",
    "from torchvision import transforms, datasets\n",
    "from torchvision.utils import save_image\n",
    "import matplotlib.pyplot as plt\n",
    "import numpy as np\n",
    "\n",
    "from tqdm import tqdm_notebook"
   ]
  },
  {
   "cell_type": "code",
   "execution_count": 3,
   "metadata": {},
   "outputs": [
    {
     "name": "stdout",
     "output_type": "stream",
     "text": [
      "Available Device is cpu\n"
     ]
    }
   ],
   "source": [
    "# EPOCHS = 500\n",
    "EPOCHS = 10\n",
    "BATCH_SIZE = 100\n",
    "USE_CUDA = torch.cuda.is_available()\n",
    "DEVICE = \"cuda\" if USE_CUDA else \"cpu\"\n",
    "print(\"Available Device is {}\".format(DEVICE))"
   ]
  },
  {
   "cell_type": "code",
   "execution_count": 4,
   "metadata": {},
   "outputs": [],
   "source": [
    "transform = transforms.Compose([\n",
    "    transforms.ToTensor(),\n",
    "    transforms.Normalize((0.5,),(0.5,))\n",
    "])\n",
    "\n",
    "trainset = datasets.FashionMNIST(\n",
    "    root = './data/',\n",
    "    train = True,\n",
    "#     download = True,\n",
    "    download = False,\n",
    "    transform = transform\n",
    ")\n",
    "\n",
    "train_loader = torch.utils.data.DataLoader(\n",
    "    trainset,\n",
    "    batch_size=BATCH_SIZE,\n",
    "    shuffle=True\n",
    ")"
   ]
  },
  {
   "cell_type": "code",
   "execution_count": 5,
   "metadata": {},
   "outputs": [],
   "source": [
    "Generator = nn.Sequential(\n",
    "    nn.Linear(64,256),\n",
    "    nn.ReLU(),\n",
    "    nn.Linear(256,256),\n",
    "    nn.ReLU(),\n",
    "    nn.Linear(256,784),\n",
    "    nn.Tanh()\n",
    ")\n",
    "\n",
    "Discriminator = nn.Sequential(\n",
    "    nn.Linear(784, 256),\n",
    "    nn.LeakyReLU(0.2),\n",
    "    nn.Linear(256, 256),\n",
    "    nn.LeakyReLU(0.2),\n",
    "    nn.Linear(256,1),\n",
    "    nn.Sigmoid()\n",
    ")"
   ]
  },
  {
   "cell_type": "code",
   "execution_count": 6,
   "metadata": {},
   "outputs": [],
   "source": [
    "D = Discriminator.to(DEVICE)\n",
    "G = Generator.to(DEVICE)\n",
    "\n",
    "criterion = nn.BCELoss()\n",
    "d_optimizer = optim.Adam(D.parameters(), lr=0.0002)\n",
    "g_optimizer = optim.Adam(G.parameters(), lr=0.0002)"
   ]
  },
  {
   "cell_type": "code",
   "execution_count": 7,
   "metadata": {},
   "outputs": [
    {
     "data": {
      "application/vnd.jupyter.widget-view+json": {
       "model_id": "2b3cdec4ced44ddd8800a157cf2cf986",
       "version_major": 2,
       "version_minor": 0
      },
      "text/plain": [
       "HBox(children=(IntProgress(value=0, max=10), HTML(value='')))"
      ]
     },
     "metadata": {},
     "output_type": "display_data"
    },
    {
     "name": "stdout",
     "output_type": "stream",
     "text": [
      "EPOCH [1/10]; d_loss: 0.1500527560710907; g_loss: 4.054120063781738; D(x): 0.9575328230857849; D(G(z)): 0.07295243442058563\n",
      "EPOCH [2/10]; d_loss: 0.04560771584510803; g_loss: 5.376081943511963; D(x): 0.9880802631378174; D(G(z)): 0.01969369687139988\n",
      "EPOCH [3/10]; d_loss: 0.01945931278169155; g_loss: 9.789103507995605; D(x): 0.9909818768501282; D(G(z)): 0.00887309666723013\n",
      "EPOCH [4/10]; d_loss: 0.011903496459126472; g_loss: 6.646429061889648; D(x): 0.9953928589820862; D(G(z)): 0.006713151466101408\n",
      "EPOCH [5/10]; d_loss: 0.01006362121552229; g_loss: 10.489091873168945; D(x): 0.997253954410553; D(G(z)): 0.0069230361841619015\n",
      "EPOCH [6/10]; d_loss: 0.05904088914394379; g_loss: 5.994604587554932; D(x): 0.9857280254364014; D(G(z)): 0.0342160202562809\n",
      "EPOCH [7/10]; d_loss: 0.06264542788267136; g_loss: 6.134653091430664; D(x): 0.9858736991882324; D(G(z)): 0.03231556713581085\n",
      "EPOCH [8/10]; d_loss: 0.3016839623451233; g_loss: 4.738491058349609; D(x): 0.9360068440437317; D(G(z)): 0.06817293912172318\n",
      "EPOCH [9/10]; d_loss: 0.19071689248085022; g_loss: 5.176804065704346; D(x): 0.9385367035865784; D(G(z)): 0.024106109514832497\n",
      "EPOCH [10/10]; d_loss: 0.30899500846862793; g_loss: 3.5970473289489746; D(x): 0.9196434020996094; D(G(z)): 0.09717924147844315\n",
      "\n"
     ]
    }
   ],
   "source": [
    "for epoch in tqdm_notebook(range(EPOCHS)):\n",
    "    for batch_num, (inputs, labels) in enumerate(train_loader):\n",
    "        inputs = inputs.view(BATCH_SIZE, -1).to(DEVICE)\n",
    "        \n",
    "        real_labels = torch.ones(BATCH_SIZE,1).to(DEVICE)\n",
    "        fake_labels = torch.zeros(BATCH_SIZE,1).to(DEVICE)\n",
    "        \n",
    "        # 판별자가 진짜와 가짜를 제대로 판별하는지에 대한 학습\n",
    "        \n",
    "        outputs = D(inputs)\n",
    "        d_loss_real = criterion(outputs,real_labels)\n",
    "        real_score = outputs\n",
    "        \n",
    "        z = torch.randn(BATCH_SIZE,64).to(DEVICE)\n",
    "        fake_images = G(z)\n",
    "        \n",
    "        outputs = D(fake_images)\n",
    "        d_loss_fake = criterion(outputs,fake_labels)\n",
    "        fake_score = outputs\n",
    "        \n",
    "        d_loss = d_loss_real + d_loss_fake\n",
    "        \n",
    "        d_optimizer.zero_grad()\n",
    "        g_optimizer.zero_grad()\n",
    "        d_loss.backward()\n",
    "        d_optimizer.step()\n",
    "        \n",
    "        # 생성자가 판별자를 제대로 속였는지에 대한 학습\n",
    "        \n",
    "        fake_images = G(z)\n",
    "        output = D(fake_images)\n",
    "        g_loss = criterion(output, real_labels)\n",
    "        \n",
    "        d_optimizer.zero_grad()\n",
    "        g_optimizer.zero_grad()\n",
    "        g_loss.backward()\n",
    "        g_optimizer.step()\n",
    "        \n",
    "    print(\"EPOCH [{}/{}]; d_loss: {}; g_loss: {}; D(x): {}; D(G(z)): {}\".format(epoch+1, EPOCHS, d_loss.item(), g_loss.item(), real_score.mean().item(), fake_score.mean().item()))"
   ]
  },
  {
   "cell_type": "code",
   "execution_count": 25,
   "metadata": {},
   "outputs": [
    {
     "data": {
      "text/plain": [
       "Text(0.5,0.94,'GAN Generated Images')"
      ]
     },
     "execution_count": 25,
     "metadata": {},
     "output_type": "execute_result"
    },
    {
     "data": {
      "image/png": "[encoded data removed]",
      "text/plain": [
       "<Figure size 1440x720 with 10 Axes>"
      ]
     },
     "metadata": {
      "needs_background": "light"
     },
     "output_type": "display_data"
    }
   ],
   "source": [
    "z = torch.randn(BATCH_SIZE,64).to(DEVICE)\n",
    "fake_images = G(z)\n",
    "fig, axes = plt.subplots(2,5,figsize=[20,10])\n",
    "for i in range(10):\n",
    "    row = i // 5\n",
    "    col = i % 5\n",
    "    fake_images_img = np.reshape(fake_images.data.cpu().numpy()[i],(28,28))\n",
    "    axes[row][col].imshow(fake_images_img,cmap=\"gray\")\n",
    "\n",
    "plt.suptitle(\"GAN Generated Images\",fontsize=20, y=0.94)"
   ]
  },
  {
   "cell_type": "markdown",
   "metadata": {},
   "source": [
    "## 9.3. cGAN으로 생성 제어하기\n",
    "\n",
    "앞서 살펴본 GAN에서 생성자는 임의의 랜덤 벡터를 생성하여 판별자에 진짜 라벨인 것처럼 하여 결과를 얻은 뒤 이로 얻은 오차를 통해 학습을 진행했다. 그런데, 이는 생성자가 범용적으로 판별자를 속이기 위해 임의의 기준 없이 생성하고 있다. 따라서 GAN이 좀 더 쓸모있으려면 원하는 이미지를 생성하는 기능을 만들어야 한다. 따라서 이런 Conditional 한 값을 제공하여 원하는 이미지를 생성하는 cGAN(Conditional GAN)에 대해서 살펴보자\n",
    "\n",
    "![cGan with GAN](img/cGAN_w_GAN.png)\n",
    "\n",
    "cGAN의 구성은 GAN과 비교했을 때, 그 데이터에 대한 Label값도 함께 학습에 사용되는지 여부이다. 판별자에서 임의의 값을 판별함에 있어서도 Label값이 사용되고 생성시에도 Random Vector와 Random Label이 사용됨으로써 특정 Label에 따라 그에 맞는 이미지가 결과적으로는 생성되고 판별되는 것이다."
   ]
  },
  {
   "cell_type": "code",
   "execution_count": 71,
   "metadata": {},
   "outputs": [],
   "source": [
    "class Generator(nn.Module):\n",
    "    def __init__(self):\n",
    "        super(Generator, self).__init__()\n",
    "        \n",
    "        self.embed = nn.Embedding(10,10)\n",
    "        \n",
    "        self.model = nn.Sequential(\n",
    "                                nn.Linear(110,256),\n",
    "                                nn.LeakyReLU(0.2,inplace=True),\n",
    "                                nn.Linear(256,512),\n",
    "                                nn.LeakyReLU(0.2,inplace=True),\n",
    "                                nn.Linear(512,1028),\n",
    "                                nn.LeakyReLU(0.2,inplace=True),\n",
    "                                nn.Linear(1028,784),\n",
    "                                nn.Tanh()\n",
    "                            )\n",
    "        \n",
    "    def forward(self, x, label):\n",
    "        label = self.embed(label)\n",
    "        x = torch.cat([x,label],1)\n",
    "        return self.model(x)\n",
    "    \n",
    "class Discriminator(nn.Module):\n",
    "    def __init__(self):\n",
    "        super(Discriminator, self).__init__()\n",
    "        \n",
    "        self.embed = nn.Embedding(10,10)\n",
    "        \n",
    "        self.model = nn.Sequential(\n",
    "                                nn.Linear(794,1028),\n",
    "                                nn.LeakyReLU(0.2,inplace=True),\n",
    "                                nn.Dropout(0.3),\n",
    "                                nn.Linear(1028,512),\n",
    "                                nn.LeakyReLU(0.2,inplace=True),\n",
    "                                nn.Dropout(0.3),\n",
    "                                nn.Linear(512,256),\n",
    "                                nn.LeakyReLU(0.2,inplace=True),\n",
    "                                nn.Dropout(0.3),\n",
    "                                nn.Linear(256,1),\n",
    "                                nn.Sigmoid()\n",
    "                            )\n",
    "        \n",
    "    def forward(self, x, label):\n",
    "        label = self.embed(label)\n",
    "        x = torch.cat([x,label],1)\n",
    "        return self.model(x)"
   ]
  },
  {
   "cell_type": "code",
   "execution_count": 72,
   "metadata": {},
   "outputs": [],
   "source": [
    "d = Discriminator().to(DEVICE)\n",
    "g = Generator().to(DEVICE)\n",
    "\n",
    "criterion = nn.BCELoss()\n",
    "d_optimizer = optim.Adam(d.parameters(), lr=0.0002)\n",
    "g_optimizer = optim.Adam(g.parameters(), lr=0.0002)"
   ]
  },
  {
   "cell_type": "code",
   "execution_count": 75,
   "metadata": {},
   "outputs": [
    {
     "name": "stdout",
     "output_type": "stream",
     "text": [
      "EPOCH [1/10]; d_loss: 0.19444051384925842; g_loss: 6.24436092376709; D(x): 0.9539788961410522; D(G(z)): 0.04378392547369003\n",
      "EPOCH [2/10]; d_loss: 0.06105846166610718; g_loss: 6.6738433837890625; D(x): 0.9907469749450684; D(G(z)): 0.0366392657160759\n",
      "EPOCH [3/10]; d_loss: 0.060632556676864624; g_loss: 10.621731758117676; D(x): 0.9944427609443665; D(G(z)): 0.020229918882250786\n",
      "EPOCH [4/10]; d_loss: 0.043491411954164505; g_loss: 10.075153350830078; D(x): 0.9815113544464111; D(G(z)): 0.0071085854433476925\n",
      "EPOCH [5/10]; d_loss: 0.008409993723034859; g_loss: 6.68901252746582; D(x): 0.9967542886734009; D(G(z)): 0.004352542106062174\n",
      "EPOCH [6/10]; d_loss: 0.006521056406199932; g_loss: 9.969396591186523; D(x): 0.9966573119163513; D(G(z)): 0.002456778660416603\n",
      "EPOCH [7/10]; d_loss: 7.827879744581878e-05; g_loss: 17.601612091064453; D(x): 0.9999392032623291; D(G(z)): 1.74207852978725e-05\n",
      "EPOCH [8/10]; d_loss: 3.229426147299819e-05; g_loss: 12.879302978515625; D(x): 0.9999825954437256; D(G(z)): 1.4881696188240312e-05\n",
      "EPOCH [9/10]; d_loss: 0.0007980604423210025; g_loss: 14.3352689743042; D(x): 0.99936842918396; D(G(z)): 0.00015028637426439673\n",
      "EPOCH [10/10]; d_loss: 1.458831593481591e-05; g_loss: 13.240134239196777; D(x): 0.9999997615814209; D(G(z)): 1.4387665942194872e-05\n"
     ]
    }
   ],
   "source": [
    "for epoch in range(EPOCHS):\n",
    "    for batch_num, (inputs, labels) in enumerate(train_loader):\n",
    "        inputs = inputs.view(BATCH_SIZE, -1).to(DEVICE)\n",
    "        labels = labels.to(DEVICE)\n",
    "        \n",
    "        real_labels = torch.ones((BATCH_SIZE,1)).to(DEVICE)\n",
    "        fake_labels = torch.zeros((BATCH_SIZE,1)).to(DEVICE)\n",
    "        \n",
    "        outputs = d(inputs,labels)\n",
    "        d_loss_real = criterion(outputs,real_labels)\n",
    "        real_score = outputs\n",
    "        \n",
    "        rand_img_vector = torch.randn((BATCH_SIZE,100)).to(DEVICE)\n",
    "        random_labels = torch.randint(low=0,high=10, size=(BATCH_SIZE,)).to(DEVICE)\n",
    "        fake_gen_images = g(rand_img_vector, random_labels)\n",
    "        \n",
    "        outputs = d(fake_gen_images,random_labels)\n",
    "        d_loss_fake = criterion(outputs,fake_labels)\n",
    "        fake_score = outputs\n",
    "        \n",
    "        d_loss = d_loss_real + d_loss_fake\n",
    "        \n",
    "        g.zero_grad()\n",
    "        d.zero_grad()\n",
    "        d_loss.backward()\n",
    "        d_optimizer.step()\n",
    "        \n",
    "        fake_gen_images = g(fake_images,random_labels)\n",
    "        outputs = d(fake_gen_images, random_labels)\n",
    "        g_loss = criterion(outputs,real_labels)\n",
    "        \n",
    "        d_optimizer.zero_grad()\n",
    "        g_optimizer.zero_grad()\n",
    "        g_loss.backward()\n",
    "        g_optimizer.step()\n",
    "        \n",
    "    print(\"EPOCH [{}/{}]; d_loss: {}; g_loss: {}; D(x): {}; D(G(z)): {}\".format(epoch+1, EPOCHS, d_loss.item(), g_loss.item(), real_score.mean().item(), fake_score.mean().item()))"
   ]
  },
  {
   "cell_type": "code",
   "execution_count": 78,
   "metadata": {},
   "outputs": [
    {
     "data": {
      "image/png": "[encoded data removed]",
      "text/plain": [
       "<Figure size 432x288 with 1 Axes>"
      ]
     },
     "metadata": {
      "needs_background": "light"
     },
     "output_type": "display_data"
    }
   ],
   "source": [
    "item_number = 9\n",
    "z = torch.randn(1,100).to(DEVICE)\n",
    "g_label = torch.full((1,),item_number,dtype=torch.long).to(DEVICE)\n",
    "sample_images = g(z,g_label)\n",
    "sample_images_img = np.reshape(sample_images.data.cpu().numpy()[0],(28,28))\n",
    "plt.imshow(sample_images_img, cmap=\"gray\")\n",
    "plt.show()"
   ]
  }
 ],
 "metadata": {
  "kernelspec": {
   "display_name": "Python 3",
   "language": "python",
   "name": "python3"
  },
  "language_info": {
   "codemirror_mode": {
    "name": "ipython",
    "version": 3
   },
   "file_extension": ".py",
   "mimetype": "text/x-python",
   "name": "python",
   "nbconvert_exporter": "python",
   "pygments_lexer": "ipython3",
   "version": "3.7.0"
  }
 },
 "nbformat": 4,
 "nbformat_minor": 2
}
