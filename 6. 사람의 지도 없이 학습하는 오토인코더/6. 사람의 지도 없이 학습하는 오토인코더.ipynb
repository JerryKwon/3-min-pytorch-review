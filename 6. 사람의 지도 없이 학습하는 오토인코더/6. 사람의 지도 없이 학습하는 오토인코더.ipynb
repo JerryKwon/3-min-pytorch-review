{
 "cells": [
  {
   "cell_type": "markdown",
   "metadata": {},
   "source": [
    "# 6. 사람의 지도 없이 학습하는 오토인코더\n",
    "\n",
    "## 6.0. 요약\n",
    "\n",
    "### 6.0.1. 지난장\n",
    "지난 5장에서는 3,4장을 바탕으로 학습한 신경망의 기초를 활용하여, 주로 영상이나 이미지를 다루는 문제에서 실제로 물체를 인식하는 방식을 활용한 합성곱신경망(Convolutional Neural Network,CNN)에 대해서 다루어보았다.\n",
    "\n",
    "그리고 기초적인 Convolution, Pooling, 일반 신경망으로 구성된 CNN모델 뿐 아니라, 더 높은 성능을 위해 고안된 신경망 모델들 중 2015년에 등장한 ResNet에 대해서 알아보고 이를 실제로 구현해보았다.\n",
    "\n",
    "### 6.0.2. 이번장\n",
    "이번 6장에서는 앞서 살펴본 레이블, $y$ 값이 주어지고 $\\hat{y}$ 신경망과 달리, 각 element에 대해 label 값이 주어지지 않는 데이터에 대해 신경망을 생성하려고 한다. 우리는 이러한 목적을 위한 학습을 '비지도학습'이라고 한다. \n",
    "\n",
    "비지도학습에서는 지도학습과는 달리 레이블을 통해 오차를 계산할 수 없는데, 그렇다면, 어떻게 비지도학습에서 오차를 계산하여 학습이 이루어지게 할 수 있을까? 그래서, 입력 $x$값을 활용하여 신경망을 통해 출력된 값과 오차를 비교함으로써 학습을 진행하는 방식을 활용한 신경망인 오토인코더를 활용하는 것이다.\n",
    "\n",
    "이번 장에서는 오토인코더에 대해서 알아보고, 오토인코더를 활용한 이미지 복원과 같은 실습을 진행하려고 한다.\n",
    "\n",
    "## 6.1. 오토인코더 기초\n",
    "오토인코더는 요약에서 언급한 것과 같이, 레이블이 없는 데이터에 대해 입력값 $x$을 가지고 신경망을 거친 출력값 $x$을 활용하여 오차를 계산하여 학습을 진행하는 신경망이다. 오토인코더는 크게보면 인코더와 디코더로 이루어진 신경망이다. 인코더를 통해 주어진 입력값을 대표할 수 있는 잠재요인 값을 추출하고, 디코더를 통해 이를 원상태로 복원한다. 추출과 복원과정에 있어서 정보의 소실이 일어나지만 복원오차(정보손실값)을 활용하여 학습을 진행하게 된다.\n",
    "\n",
    "그런데, 오토인코더의 인코더는 일반적으로 이미지를 압축하는 ZIP과는 다르다. 왜냐하면 오토인코더가 차원을 축소하는 은닉층들을 거칠 수록 덜 중요한 정보들을 버리는 과정으로 인해 잠재요인을 추출하기 때문이다.\n",
    "\n",
    "따라서, 오토인코더는 주로 복잡헌 비선형 데이터의 차원을 줄이는 용도로 사용된다. 그리고, 비정상 거래 검출, 데이터 시각화와 복원, 의미추출, 이미지 검색등에도 사용된다."
   ]
  },
  {
   "cell_type": "markdown",
   "metadata": {},
   "source": [
    "## 6.2. 오토인코더로 이미지의 특징 추출하기"
   ]
  },
  {
   "cell_type": "code",
   "execution_count": 57,
   "metadata": {},
   "outputs": [],
   "source": [
    "import torch\n",
    "import torchvision\n",
    "import torch.nn.functional as F\n",
    "from torch import nn, optim\n",
    "from torchvision import transforms, datasets\n",
    "\n",
    "import matplotlib.pyplot as plt\n",
    "from mpl_toolkits.mplot3d import Axes3D\n",
    "from matplotlib import cm\n",
    "import numpy as np\n",
    "\n",
    "from tqdm import tqdm_notebook"
   ]
  },
  {
   "cell_type": "code",
   "execution_count": 4,
   "metadata": {},
   "outputs": [
    {
     "name": "stdout",
     "output_type": "stream",
     "text": [
      "Using Device: cpu\n"
     ]
    }
   ],
   "source": [
    "EPOCH = 10\n",
    "BATCH_SIZE = 64\n",
    "USE_CUDA = torch.cuda.is_available()\n",
    "DEVICE = \"cuda\" if USE_CUDA else \"cpu\"\n",
    "print(\"Using Device: {}\".format(DEVICE))"
   ]
  },
  {
   "cell_type": "code",
   "execution_count": 6,
   "metadata": {},
   "outputs": [],
   "source": [
    "train_transform = transforms.Compose([\n",
    "    transforms.ToTensor()\n",
    "])"
   ]
  },
  {
   "cell_type": "code",
   "execution_count": 26,
   "metadata": {},
   "outputs": [],
   "source": [
    "train_dataset = datasets.FashionMNIST(\n",
    "    root = './data/',\n",
    "    train = True,\n",
    "#     download = True,\n",
    "    download = False,\n",
    "    transform = train_transform\n",
    ")\n",
    "\n",
    "train_loader = torch.utils.data.DataLoader(\n",
    "    train_dataset,\n",
    "    batch_size = BATCH_SIZE,\n",
    "    shuffle =True\n",
    ")"
   ]
  },
  {
   "cell_type": "markdown",
   "metadata": {},
   "source": [
    "우리가 실습에 사용할 간단한 오토인코더에 대해서 살펴보자.\n",
    "\n",
    "오토인코더는 먼저 언급한 것과 같이 인코더와 디코더로 구성된다. 따라서 인코더부와 디코더부로 나누었다. 그리고 인코더를 통해 3개의 잠재요인 값들을 반환하도록 설계하였고, 이 잠재요인들을 활용하여 유사한 입력값들이 모여서 분포하는지 살펴본다. 그리고 디코더는 출력을 Sigmoid 함수를 활용하여 0에서 1사이의 값들을 가지도록 설계했다."
   ]
  },
  {
   "cell_type": "code",
   "execution_count": 38,
   "metadata": {},
   "outputs": [],
   "source": [
    "class AutoEncoder(nn.Module):\n",
    "    def __init__(self):\n",
    "        super(AutoEncoder, self).__init__()\n",
    "        \n",
    "        self.encoder = nn.Sequential(\n",
    "            nn.Linear(28*28, 128),\n",
    "            nn.ReLU(),\n",
    "            nn.Linear(128, 64),\n",
    "            nn.ReLU(),\n",
    "            nn.Linear(64, 12),\n",
    "            nn.ReLU(),\n",
    "            nn.Linear(12, 3)\n",
    "        )\n",
    "        \n",
    "        self.decoder = nn.Sequential(\n",
    "            nn.Linear(3, 12),\n",
    "            nn.ReLU(),\n",
    "            nn.Linear(12, 64),\n",
    "            nn.ReLU(),\n",
    "            nn.Linear(64, 128),\n",
    "            nn.ReLU(),\n",
    "            nn.Linear(128, 28*28),\n",
    "            nn.Sigmoid()\n",
    "        )\n",
    "        \n",
    "    def forward(self, x):\n",
    "        encoded = self.encoder(x)\n",
    "        decoded = self.decoder(encoded)\n",
    "        \n",
    "        return encoded, decoded"
   ]
  },
  {
   "cell_type": "code",
   "execution_count": 39,
   "metadata": {},
   "outputs": [],
   "source": [
    "if USE_CUDA:\n",
    "    autoencoder = AutoEncoder().to(DEVICE)\n",
    "else:\n",
    "    autoencoder = AutoEncoder()\n",
    "    \n",
    "optimizer = optim.Adam(autoencoder.parameters(), lr=0.005)\n",
    "criterion = nn.MSELoss()"
   ]
  },
  {
   "cell_type": "markdown",
   "metadata": {},
   "source": [
    "파이토치에서는 학습에서 가중치 추정을 위해 사용되는 최적화 알고리즘들을 제공하고 있다. 따라서, 최적화 알고리즘들에 대해서 더 자세히 알고 싶다면 아래 링크의 강의를 통해 학습하자\n",
    "\n",
    "* Gradient Descent With Momentum: https://www.youtube.com/watch?v=k8fTYJPd3_I\n",
    "* RMSProp: https://www.youtube.com/watch?v=_e-LFe_igno\n",
    "* Adam Optimization Algorithm: https://www.youtube.com/watch?v=JXQT_vxqwIs\n",
    "\n",
    "* 가중치를 업데이트하는 최적화 방법들: http://aikorea.org/cs231n/neural-networks-3/"
   ]
  },
  {
   "cell_type": "code",
   "execution_count": 40,
   "metadata": {},
   "outputs": [],
   "source": [
    "view_data = train_dataset.data[:5].view(-1, 28*28)\n",
    "view_data = view_data.type(torch.FloatTensor)/255."
   ]
  },
  {
   "cell_type": "code",
   "execution_count": 55,
   "metadata": {},
   "outputs": [],
   "source": [
    "def train(autoencoder, train_loader):\n",
    "    autoencoder.train()\n",
    "    \n",
    "    for batch_num, (inputs, labels) in enumerate(train_loader):\n",
    "        if USE_CUDA:\n",
    "            inputs = inputs.view(-1,28*28).to(DEVICE)\n",
    "            labels = labels.to(DEVICE)\n",
    "        else:\n",
    "            inputs = inputs.view(-1,28*28)\n",
    "            \n",
    "        autoencoder.zero_grad()\n",
    "        \n",
    "        encoded, decoded = autoencoder(inputs)\n",
    "        loss = criterion(decoded, inputs)\n",
    "        loss.backward()\n",
    "        optimizer.step()"
   ]
  },
  {
   "cell_type": "code",
   "execution_count": 58,
   "metadata": {},
   "outputs": [
    {
     "data": {
      "application/vnd.jupyter.widget-view+json": {
       "model_id": "7f697608f457474ebd9db87186d4280c",
       "version_major": 2,
       "version_minor": 0
      },
      "text/plain": [
       "HBox(children=(IntProgress(value=0, max=10), HTML(value='')))"
      ]
     },
     "metadata": {},
     "output_type": "display_data"
    },
    {
     "name": "stdout",
     "output_type": "stream",
     "text": [
      "\n"
     ]
    }
   ],
   "source": [
    "for epoch in tqdm_notebook(range(1,EPOCH+1)):\n",
    "    train(autoencoder, train_loader)"
   ]
  },
  {
   "cell_type": "code",
   "execution_count": 60,
   "metadata": {},
   "outputs": [],
   "source": [
    "encoded_view_data, decoded_view_data = autoencoder(view_data)"
   ]
  },
  {
   "cell_type": "code",
   "execution_count": 71,
   "metadata": {},
   "outputs": [
    {
     "data": {
      "text/plain": [
       "Text(0.5,0.98,'AutoEncoder Restored Image by 5 epochs')"
      ]
     },
     "execution_count": 71,
     "metadata": {},
     "output_type": "execute_result"
    },
    {
     "data": {
      "image/png": "[encoded data removed]",
      "text/plain": [
       "<Figure size 1440x288 with 10 Axes>"
      ]
     },
     "metadata": {
      "needs_background": "light"
     },
     "output_type": "display_data"
    }
   ],
   "source": [
    "fig, axes = plt.subplots(2,5,figsize=[20,4])\n",
    "\n",
    "for i in range(10):\n",
    "    row = i // 5\n",
    "    col = i % 5\n",
    "    \n",
    "    if row == 0:\n",
    "        img = np.reshape(view_data.data.numpy()[col],(28,28))\n",
    "        axes[row][col].imshow(img, cmap=\"gray\")\n",
    "    elif row == 1:\n",
    "        img = np.reshape(decoded_view_data.data.numpy()[col],(28,28))\n",
    "        axes[row][col].imshow(img, cmap=\"gray\")\n",
    "\n",
    "plt.suptitle(\"AutoEncoder Restored Image by 5 epochs\",size=20)"
   ]
  }
 ],
 "metadata": {
  "kernelspec": {
   "display_name": "Python 3",
   "language": "python",
   "name": "python3"
  },
  "language_info": {
   "codemirror_mode": {
    "name": "ipython",
    "version": 3
   },
   "file_extension": ".py",
   "mimetype": "text/x-python",
   "name": "python",
   "nbconvert_exporter": "python",
   "pygments_lexer": "ipython3",
   "version": "3.7.0"
  }
 },
 "nbformat": 4,
 "nbformat_minor": 2
}
